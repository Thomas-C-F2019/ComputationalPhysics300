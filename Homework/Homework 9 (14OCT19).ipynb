{
 "cells": [
  {
   "cell_type": "code",
   "execution_count": 3,
   "metadata": {},
   "outputs": [
    {
     "data": {
      "image/png": "[encoded data removed]",
      "text/plain": [
       "<Figure size 432x288 with 1 Axes>"
      ]
     },
     "metadata": {
      "needs_background": "light"
     },
     "output_type": "display_data"
    },
    {
     "name": "stdout",
     "output_type": "stream",
     "text": [
      "The area of the region in blue is:  0.95272\n"
     ]
    }
   ],
   "source": [
    "#Thomas Conibear - Homework to calculate area shaded in green of integral\n",
    "\n",
    "import matplotlib.pyplot as plt\n",
    "import numpy as np\n",
    "\n",
    "\n",
    "#Code for graph from notes\n",
    "\n",
    "fig1 = plt.figure()\n",
    "ax1 = fig1.add_subplot(111, aspect='equal')\n",
    "\n",
    "x1 = np.linspace(0,2,100)\n",
    "y1 = np.sqrt(1-(x1-1)**2)\n",
    "ax1.plot(x1,y1,'k')\n",
    "\n",
    "y2 = 2-np.sqrt(4-x1**2)\n",
    "ax1.plot(x1,y2,'k')\n",
    "\n",
    "ax1.set_xlim(0,2)\n",
    "ax1.set_ylim(0,2)\n",
    "ax1.fill_between(x1, y1, y2, where=y1>y2, facecolor='blue')\n",
    "\n",
    "plt.show()\n",
    "\n",
    "#Code for Monte Carlo\n",
    "from math import sin\n",
    "from random import random\n",
    "\n",
    "def f(x):\n",
    "    return np.sqrt(1-(x-1)**2)\n",
    "def g(x):\n",
    "    return 2-np.sqrt(4-x**2)\n",
    "\n",
    "\n",
    "def MC(N):\n",
    "    count = 0\n",
    "    for i in range(N):\n",
    "        x = 2*random()\n",
    "        y = 2*random()\n",
    "        if y<f(x) and y>g(x):  #We want the region below the top function and above the bottom\n",
    "            count += 1\n",
    "    I = 4*count/N #The four comes from multiplying the x and y distances which is 2 x 2 \n",
    "    return I\n",
    "\n",
    "print(\"The area of the region in blue is: \", MC(100000))"
   ]
  },
  {
   "cell_type": "code",
   "execution_count": 12,
   "metadata": {},
   "outputs": [
    {
     "name": "stdout",
     "output_type": "stream",
     "text": [
      "The standard deviation when N=100 is:  0.1731755179001928\n",
      "The standard deviation when N=1000 is:  0.04966550513183169\n",
      "The standard deviation when N=10000 is:  0.016168047006364133\n",
      "The standard deviation when N=100000 is:  0.005176103167441696\n"
     ]
    }
   ],
   "source": [
    "import numpy\n",
    " \n",
    "N100_Values = []\n",
    "N1000_Values = []\n",
    "N10000_Values = []\n",
    "N100000_Values = []\n",
    "\n",
    "for i in range(100):\n",
    "    N100_Values.append(MC(100))\n",
    "    N1000_Values.append(MC(1000))\n",
    "    N10000_Values.append(MC(10000))\n",
    "    N100000_Values.append(MC(100000))\n",
    "    \n",
    "print(\"The standard deviation when N=100 is: \", numpy.std(numpy.array(N100_Values)))\n",
    "print(\"The standard deviation when N=1000 is: \", numpy.std(numpy.array(N1000_Values)))\n",
    "print(\"The standard deviation when N=10000 is: \", numpy.std(numpy.array(N10000_Values)))\n",
    "print(\"The standard deviation when N=100000 is: \", numpy.std(numpy.array(N100000_Values)))"
   ]
  },
  {
   "cell_type": "markdown",
   "metadata": {},
   "source": [
    "As you can see, the standard deviation goes down as N increases. This is expected as the more trials you have, the more precise and accurate the data becomes. The standard deviation is the measure of the spread of data around the mean of the same data. So it is no surprise that as more and more points are added, the mean becomes more represenatative of all the data, and the spread from the mean will decrease."
   ]
  },
  {
   "cell_type": "code",
   "execution_count": 4,
   "metadata": {},
   "outputs": [
    {
     "name": "stdout",
     "output_type": "stream",
     "text": [
      "The standard variance when N=100 is:  0.03085184\n",
      "The standard variance when N=1000 is:  0.00314348\n",
      "The standard variance when N=10000 is:  0.0003268202240000001\n",
      "The standard variance when N=100000 is:  3.484998464e-05\n"
     ]
    }
   ],
   "source": [
    "import numpy\n",
    " \n",
    "N100_Values = []\n",
    "N1000_Values = []\n",
    "N10000_Values = []\n",
    "N100000_Values = []\n",
    "\n",
    "for i in range(100):\n",
    "    N100_Values.append(MC(100))\n",
    "    N1000_Values.append(MC(1000))\n",
    "    N10000_Values.append(MC(10000))\n",
    "    N100000_Values.append(MC(100000))\n",
    "    \n",
    "print(\"The standard variance when N=100 is: \", numpy.var(numpy.array(N100_Values)))\n",
    "print(\"The standard variance when N=1000 is: \", numpy.var(numpy.array(N1000_Values)))\n",
    "print(\"The standard variance when N=10000 is: \", numpy.var(numpy.array(N10000_Values)))\n",
    "print(\"The standard variance when N=100000 is: \", numpy.var(numpy.array(N100000_Values)))"
   ]
  },
  {
   "cell_type": "markdown",
   "metadata": {},
   "source": [
    "Like the standard deviation, the standard variance also decreases as N increases. However, the standard variance decreases at a larger rate than the standard deviation. This is because the standard variance is a measure of how spread out the data is. So the more you run the same function with randomness, the more likely the overall data will not be spread out. Also, variance is the standard deviation squared, so it is expected that the variance will decrease at a larger rate than standard deviation will. "
   ]
  },
  {
   "cell_type": "code",
   "execution_count": null,
   "metadata": {},
   "outputs": [],
   "source": []
  }
 ],
 "metadata": {
  "kernelspec": {
   "display_name": "Python 3",
   "language": "python",
   "name": "python3"
  },
  "language_info": {
   "codemirror_mode": {
    "name": "ipython",
    "version": 3
   },
   "file_extension": ".py",
   "mimetype": "text/x-python",
   "name": "python",
   "nbconvert_exporter": "python",
   "pygments_lexer": "ipython3",
   "version": "3.7.1"
  }
 },
 "nbformat": 4,
 "nbformat_minor": 2
}
