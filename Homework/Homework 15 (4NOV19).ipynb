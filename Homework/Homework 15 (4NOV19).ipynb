{
 "cells": [
  {
   "cell_type": "markdown",
   "metadata": {},
   "source": [
    "Thomas Conibear - Homework on Minimum Lennard-Jones Energy Between Three Particles\n",
    "\n",
    "The problem asks us to find the ground state of the Lennard-Jones (LJ) Potential between three atoms. This means we will have to find the smallest energy possible between three atoms. We are given the LJ equation which is specifically used for interactions between two atoms. However, we know that the energy of a system of more than two atoms is just the summation of the LJ energy between each atom with respect to the other atom. So we can find the LJ potential of a three atom system by calculating and summing the energy between particle 1 and 2, particle 1 and 3, and particle 2 and 3. We can accomplish this by the random sampling method, where we simply iterate thousands of times using pseudo random numbers from numpy and then selecting the minimum from all our calculated values to get the minimum LJ potential. Since we only care about the distance between respective atoms as we assume epsilon and sigma are both equal to one, we will have to randomly choose different positions of the atoms to get random distances and random LJ energies to find the minimum from. "
   ]
  },
  {
   "cell_type": "code",
   "execution_count": 9,
   "metadata": {},
   "outputs": [],
   "source": [
    "#Given code for LJ equation\n",
    "\n",
    "import numpy\n",
    "import matplotlib.pyplot as plt\n",
    "\n",
    "def LJ(r):\n",
    "    r6 = r**6\n",
    "    r12 = r6*r6\n",
    "    return 4*(1/r12 - 1/r6)\n",
    "\n",
    "#Defining our function to get distance or r. I use the simple distance formula\n",
    "\n",
    "def Distance_Formula(x0, x1, y0, y1):\n",
    "    return numpy.sqrt((x1-x0)**2+(y1-y0)**2)\n",
    "\n",
    "LJ_values = [] #Creating empty array that I can populate with random LJ values\n",
    " \n",
    "#Making whole function to find total LJ energy values given random positions\n",
    "\n",
    "def Minimum_LJ(N):\n",
    "    for i in range(N):\n",
    "        x1 = numpy.random.random() #Defining random position coordinates for each atom\n",
    "        y1 = numpy.random.random()\n",
    "        x2 = numpy.random.random()\n",
    "        y2 = numpy.random.random()\n",
    "        x3 = numpy.random.random()\n",
    "        y3 = numpy.random.random()\n",
    "        \n",
    "        r12 = Distance_Formula(x1, x2, y1, y2) #Distance between atom 1 and 2\n",
    "        r13 = Distance_Formula(x1, x3, y1, y3) #Distance between atom 1 and 3\n",
    "        r23 = Distance_Formula(x2, x3, y2, y3) #Distance between atom 2 and 3\n",
    "        \n",
    "        E12 = LJ(r12) #LJ Energy between atom 1 and 2\n",
    "        E13 = LJ(r13) #LJ Energy between atom 1 and 3\n",
    "        E23 = LJ(r23) #LJ Energy between atom 2 and 3\n",
    "        \n",
    "        E_Total = E12 + E13 + E23\n",
    "        \n",
    "        LJ_values.append(E_Total)\n",
    "        \n",
    "    return LJ_values"
   ]
  },
  {
   "cell_type": "code",
   "execution_count": 12,
   "metadata": {},
   "outputs": [
    {
     "data": {
      "text/plain": [
       "-1.8098195568166784"
      ]
     },
     "execution_count": 12,
     "metadata": {},
     "output_type": "execute_result"
    }
   ],
   "source": [
    "min(Minimum_LJ(100000000))"
   ]
  },
  {
   "cell_type": "code",
   "execution_count": null,
   "metadata": {},
   "outputs": [],
   "source": []
  }
 ],
 "metadata": {
  "kernelspec": {
   "display_name": "Python 3",
   "language": "python",
   "name": "python3"
  },
  "language_info": {
   "codemirror_mode": {
    "name": "ipython",
    "version": 3
   },
   "file_extension": ".py",
   "mimetype": "text/x-python",
   "name": "python",
   "nbconvert_exporter": "python",
   "pygments_lexer": "ipython3",
   "version": "3.7.1"
  }
 },
 "nbformat": 4,
 "nbformat_minor": 2
}
