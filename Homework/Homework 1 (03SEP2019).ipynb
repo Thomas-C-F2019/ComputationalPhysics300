{
 "cells": [
  {
   "cell_type": "code",
   "execution_count": 1,
   "metadata": {},
   "outputs": [],
   "source": [
    "import math"
   ]
  },
  {
   "cell_type": "code",
   "execution_count": 2,
   "metadata": {},
   "outputs": [],
   "source": [
    "from math import factorial"
   ]
  },
  {
   "cell_type": "code",
   "execution_count": 3,
   "metadata": {},
   "outputs": [
    {
     "name": "stdout",
     "output_type": "stream",
     "text": [
      "Define the Number of Oscillators, N: 100\n",
      "Define the Number of Energy Units, q: 100\n",
      "Multiplicity:  4.527425732805164e+58\n"
     ]
    }
   ],
   "source": [
    "def factorial(x):\n",
    "    if x == 0 or x == 1:\n",
    "        return 1\n",
    "    else: \n",
    "        total = 1\n",
    "        for y in range(2,x+1):\n",
    "            total *= y\n",
    "        return total  \n",
    "    \n",
    "def Multiplicity(N,q):\n",
    "    return factorial(q + N - 1)/(factorial(q)*factorial(N-1))\n",
    "\n",
    "N = int(input(\"Define the Number of Oscillators, N: \"))\n",
    "q = int(input(\"Define the Number of Energy Units, q: \"))\n",
    "\n",
    "print(\"Multiplicity: \", Multiplicity(N,q))"
   ]
  },
  {
   "cell_type": "code",
   "execution_count": null,
   "metadata": {},
   "outputs": [],
   "source": []
  }
 ],
 "metadata": {
  "kernelspec": {
   "display_name": "Python 3",
   "language": "python",
   "name": "python3"
  },
  "language_info": {
   "codemirror_mode": {
    "name": "ipython",
    "version": 3
   },
   "file_extension": ".py",
   "mimetype": "text/x-python",
   "name": "python",
   "nbconvert_exporter": "python",
   "pygments_lexer": "ipython3",
   "version": "3.7.1"
  }
 },
 "nbformat": 4,
 "nbformat_minor": 2
}
