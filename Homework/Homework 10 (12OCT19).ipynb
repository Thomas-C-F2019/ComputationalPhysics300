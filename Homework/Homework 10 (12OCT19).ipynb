{
 "cells": [
  {
   "cell_type": "markdown",
   "metadata": {},
   "source": [
    "Thomas Conibear - Monte Carlo Integration Using Importance Sampling Method\n",
    "\n",
    "Importance sampling involves an integrand function, a weighting function, and a probability function that gives you the inverse transform sampling function. We are given the integrand function and the weighting function. We use the weighting function to find the probability function, and use that to find the inverse transform sampling function.\n",
    "\n",
    "To find the probability function you divide the weighting function by the integral of the weighting function evaluated over the same limits as the integrand. \n",
    "\n",
    "To find the inverse transform sampling function, you take the integral of the probability function found previously with limits 0 to x. Then you inverse the answer."
   ]
  },
  {
   "cell_type": "code",
   "execution_count": 12,
   "metadata": {},
   "outputs": [
    {
     "name": "stdout",
     "output_type": "stream",
     "text": [
      "Importance sampling method for first integral:  0.8389016384387823\n"
     ]
    }
   ],
   "source": [
    "import matplotlib.pyplot as plt\n",
    "import numpy as np\n",
    "from math import pi\n",
    "from scipy.integrate import quad\n",
    "from random import random\n",
    "#Our given integrand function and weighting function\n",
    "f = lambda x: 1/np.sqrt(x)/(np.exp(x)+1)\n",
    "w = lambda x: 1/np.sqrt(x) #x^-1/2\n",
    "\n",
    "#To find the probability function we divide w(x) by the integral of itself from 0 to 1. This yields below equation\n",
    "#p(x) = (x^-1/2)/2\n",
    "#Now we have to evaluate this function as an integral from 0 to x. This gets\n",
    "# F(x) = x^1/2\n",
    "#And if we invert that to get the inverse transform sampling function, we get\n",
    "#F^-1(x) = x**2\n",
    "\n",
    "F_inverse = lambda x: x**2\n",
    "\n",
    "#From notes we have the following importance sampling integral\n",
    "def ISI(N):\n",
    "    const = quad(w, 0, 1)[0]\n",
    "    I = 0\n",
    "    for i in range(N):\n",
    "        x = random()\n",
    "        y = F_inverse(x)\n",
    "        I += f(y)/w(y)\n",
    "    return I/N*const\n",
    "\n",
    "print(\"Importance sampling method for first integral: \", ISI(1000000)) #Problem wants 1000000 runs for increased accuracy"
   ]
  },
  {
   "cell_type": "code",
   "execution_count": 19,
   "metadata": {},
   "outputs": [
    {
     "name": "stdout",
     "output_type": "stream",
     "text": [
      "Direct integration for first integral:  0.8389329600133792\n"
     ]
    }
   ],
   "source": [
    "#For comparison and verification,we take the integral directly using scipy\n",
    "from scipy.integrate import quad\n",
    "f = lambda x: 1/np.sqrt(x)/(np.exp(x)+1)\n",
    "\n",
    "print(\"Direct integration for first integral: \", quad(f, 0, 1)[0])"
   ]
  },
  {
   "cell_type": "code",
   "execution_count": 17,
   "metadata": {},
   "outputs": [
    {
     "name": "stderr",
     "output_type": "stream",
     "text": [
      "C:\\Users\\Thomas\\Anaconda3\\lib\\site-packages\\scipy\\integrate\\quadpack.py:385: IntegrationWarning: The maximum number of subdivisions (50) has been achieved.\n",
      "  If increasing the limit yields no improvement it is advised to analyze \n",
      "  the integrand in order to determine the difficulties.  If the position of a \n",
      "  local difficulty can be determined (singularity, discontinuity) one will \n",
      "  probably gain from splitting up the interval and calling the integrator \n",
      "  on the subranges.  Perhaps a special-purpose integrator should be used.\n",
      "  warnings.warn(msg, IntegrationWarning)\n"
     ]
    },
    {
     "name": "stdout",
     "output_type": "stream",
     "text": [
      "Importance sampling method for second integral:  20.838420337694046\n"
     ]
    }
   ],
   "source": [
    "#For the second integral we have the following integrand and weighting function\n",
    "from scipy.integrate import quad\n",
    "from math import e, log\n",
    "from random import random\n",
    "import numpy as np\n",
    "\n",
    "f_2 = lambda x: 1/x/(np.exp(x)+1)\n",
    "w_2 = lambda x: 1/x\n",
    "\n",
    "#To find the probability function we divide w(x) by the integral of itself from 0 to 1. However, the integral of 1/x is\n",
    "#natural log, and it would be ln(1) - ln(0). ln(0) is undefined so in our case we cannot find the probability function\n",
    "#due to it being undefined in this space. However, it is possible to make an approximation using a number that can be\n",
    "#considered to be zero. In our case I will use Planck's constant number of 6.626e-34 as the lower limit.\n",
    "\n",
    "#Used this to find the value of the integral\n",
    "#C = quad(w,6.626e-34,1)[0]\n",
    "#print(C) = 41.67684067538809\n",
    "\n",
    "#To find the probability function we divide w(x) by the integral of itself from 0 to 6.626e-34. This yields below equation\n",
    "#p(x) = (x^-1)/41.677\n",
    "#Now we have to evaluate this function as an integral from 6.626e-34 to x. This gets\n",
    "# F(x) = (1/41.677)(ln(x)-ln(6.626e-34))\n",
    "#And if we invert that to get the inverse transform sampling function, we get\n",
    "#F^-1(x) = e^(41.677x + ln(6.626e-34))\n",
    "\n",
    "\n",
    "F_inverse2 = lambda x: pow(e, (41.677*x+log(6.626e-34))) #Have to use log as ln is not in math\n",
    "\n",
    "def ISI_2(N):\n",
    "    const = quad(w_2, 6.626e-34, 1)[0]\n",
    "    I_2 = 0\n",
    "    for i in range(N):\n",
    "        x_2 = random()\n",
    "        y_2 = F_inverse2(x_2)\n",
    "        I_2 += f_2(y_2)/w_2(y_2)\n",
    "    return I_2/N*const\n",
    "\n",
    "print(\"Importance sampling method for second integral: \", ISI_2(1000000))"
   ]
  },
  {
   "cell_type": "code",
   "execution_count": 18,
   "metadata": {},
   "outputs": [
    {
     "name": "stdout",
     "output_type": "stream",
     "text": [
      "Direct integration for second integral:  20.594976039904015\n"
     ]
    }
   ],
   "source": [
    "#Like the last integral, we do direct scipy integration to compare values\n",
    "\n",
    "from scipy.integrate import quad\n",
    "f_2 = lambda x: 1/x/(np.exp(x)+1)\n",
    "\n",
    "print(\"Direct integration for second integral: \", quad(f_2, 6.6262e-34, 1)[0])"
   ]
  },
  {
   "cell_type": "markdown",
   "metadata": {},
   "source": [
    "As we can see, in both our integral examples. Our importance sampling method value was incredibly close to the directly integrated function value. Even with a rough approximation in the second integral, our value was consistent with the directly calculated value. In the first integral, where no approximation was used, our two values of the integral are incredibly close. "
   ]
  },
  {
   "cell_type": "code",
   "execution_count": null,
   "metadata": {},
   "outputs": [],
   "source": []
  }
 ],
 "metadata": {
  "kernelspec": {
   "display_name": "Python 3",
   "language": "python",
   "name": "python3"
  },
  "language_info": {
   "codemirror_mode": {
    "name": "ipython",
    "version": 3
   },
   "file_extension": ".py",
   "mimetype": "text/x-python",
   "name": "python",
   "nbconvert_exporter": "python",
   "pygments_lexer": "ipython3",
   "version": "3.7.1"
  }
 },
 "nbformat": 4,
 "nbformat_minor": 2
}
