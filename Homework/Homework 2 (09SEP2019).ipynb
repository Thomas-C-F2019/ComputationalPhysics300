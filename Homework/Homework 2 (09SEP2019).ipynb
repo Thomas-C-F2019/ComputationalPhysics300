{
 "cells": [
  {
   "cell_type": "code",
   "execution_count": 37,
   "metadata": {},
   "outputs": [
    {
     "name": "stdout",
     "output_type": "stream",
     "text": [
      "Define the Number of Energy Units, qa: 60\n",
      "MultiplicityA:  1.303374942856698e+69\n",
      "MultiplicityB:  5.268096860471741e+45\n",
      "MultiplicityTotal(Na,qa,Nb,qb):  6.866305444480905e+114\n"
     ]
    }
   ],
   "source": [
    "#Name: Thomas Conibear. Homework #2 for Monday, September 8th for PHYS 300\n",
    "\n",
    "from sympy import factorial\n",
    "import math\n",
    "import numpy\n",
    "\n",
    "def factorial(x):\n",
    "    if x == 0 or x == 1:\n",
    "        return 1\n",
    "    else: \n",
    "        total = 1\n",
    "        for y in range(2,x+1):\n",
    "            total *= y\n",
    "        return total  \n",
    "    \n",
    "def MultiplicityA(Na,qa):\n",
    "    return factorial(qa + Na - 1)/(factorial(qa)*factorial(Na-1))\n",
    "\n",
    "def MultiplicityB(Nb,qb):\n",
    "    return factorial(qb + Nb -1)/(factorial(qb)*factorial(Nb-1))\n",
    "\n",
    "def MultiplicityTotal(Na,qa,Nb,qb):\n",
    "    return MultiplicityA(Na,qa)*MultiplicityB(Nb,qb)\n",
    "\n",
    "Na = 300\n",
    "qa = int(input(\"Define the Number of Energy Units, qa: \"))\n",
    "Nb = 200\n",
    "qb = 100-qa\n",
    "\n",
    "print(\"MultiplicityA: \", MultiplicityA(Na,qa))\n",
    "print(\"MultiplicityB: \", MultiplicityB(Nb,qb))\n",
    "print(\"MultiplicityTotal(Na,qa,Nb,qb): \", MultiplicityA(Na,qa)*MultiplicityB(Nb,qb))\n",
    "\n",
    "import matplotlib.pyplot as plt\n",
    "\n",
    "def Plot_Omega(Na, Nb, q):\n",
    "    \n",
    "    qa_series = range(q + 1)\n",
    "    Omega_A = []\n",
    "    Omega_B = []\n",
    "    \n",
    "    for qa in qa_series:\n",
    "        Omega_A.append(MultiplicityA(Na, qa))\n",
    "        Omega_B.append(MultiplicityB(Nb, (q - qa)))\n",
    "    \n",
    "    Omega_A = numpy.asarray(Omega_A)\n",
    "    Omega_B = numpy.asarray(Omega_B)\n",
    "    Omega_T = Omega_A * Omega_B\n",
    "    \n",
    "    plt.plot(qa_series, Omega_T, linewidth=2)\n",
    "    plt.title(\"$q_a$ vs. Total Multiplicity\")\n",
    "    plt.xlabel(\"$q_a$\")\n",
    "    plt.ylabel(\"Total Multiplicity\")"
   ]
  },
  {
   "cell_type": "code",
   "execution_count": 38,
   "metadata": {},
   "outputs": [
    {
     "data": {
      "image/png": "[encoded data removed]",
      "text/plain": [
       "<Figure size 432x288 with 1 Axes>"
      ]
     },
     "metadata": {
      "needs_background": "light"
     },
     "output_type": "display_data"
    }
   ],
   "source": [
    "Plot_Omega(300, 200, 100)"
   ]
  },
  {
   "cell_type": "markdown",
   "metadata": {},
   "source": [
    "We know from Thermodynamics that the multiplicity is maximized when there is more energy present in the solid that contains more particles. This graph evidences this because when qa is more than half, around 60, the total multiplicity is maximized. This is because solid A possesses more atoms/particles than solid B so the amount of states is maximized. "
   ]
  },
  {
   "cell_type": "code",
   "execution_count": 41,
   "metadata": {},
   "outputs": [
    {
     "name": "stdout",
     "output_type": "stream",
     "text": [
      "Define the Number of Energy Units, qa: 60\n",
      "MultiplicityA:  9.154967114992478e+126\n",
      "MultiplicityB:  1.985296769463398e+84\n",
      "MultiplicityTotal(Na,qa,Nb,qb):  1.8175326637938212e+211\n"
     ]
    }
   ],
   "source": [
    "from sympy import factorial\n",
    "import math\n",
    "import numpy\n",
    "\n",
    "def factorial(x):\n",
    "    if x == 0 or x == 1:\n",
    "        return 1\n",
    "    else: \n",
    "        total = 1\n",
    "        for y in range(2,x+1):\n",
    "            total *= y\n",
    "        return total  \n",
    "    \n",
    "def MultiplicityA(Na,qa):\n",
    "    return factorial(qa + Na - 1)/(factorial(qa)*factorial(Na-1))\n",
    "\n",
    "def MultiplicityB(Nb,qb):\n",
    "    return factorial(qb + Nb -1)/(factorial(qb)*factorial(Nb-1))\n",
    "\n",
    "def MultiplicityTotal(Na,qa,Nb,qb):\n",
    "    return MultiplicityA(Na,qa)*MultiplicityB(Nb,qb)\n",
    "\n",
    "Na = 3000\n",
    "qa = int(input(\"Define the Number of Energy Units, qa: \"))\n",
    "Nb = 2000\n",
    "qb = 100-qa\n",
    "\n",
    "print(\"MultiplicityA: \", MultiplicityA(Na,qa))\n",
    "print(\"MultiplicityB: \", MultiplicityB(Nb,qb))\n",
    "print(\"MultiplicityTotal(Na,qa,Nb,qb): \", MultiplicityA(Na,qa)*MultiplicityB(Nb,qb))\n",
    "\n",
    "import matplotlib.pyplot as plt\n",
    "\n",
    "def Plot_Omega(Na, Nb, q):\n",
    "    \n",
    "    qa_series = range(q + 1)\n",
    "    Omega_A = []\n",
    "    Omega_B = []\n",
    "    \n",
    "    for qa in qa_series:\n",
    "        Omega_A.append(MultiplicityA(Na, qa))\n",
    "        Omega_B.append(MultiplicityB(Nb, (q - qa)))\n",
    "    \n",
    "    Omega_A = numpy.asarray(Omega_A)\n",
    "    Omega_B = numpy.asarray(Omega_B)\n",
    "    Omega_T = Omega_A*Omega_B\n",
    "    \n",
    "    plt.plot(qa_series, Omega_T, linewidth=2)\n",
    "    plt.title(\"$q_a$ vs. Total Multiplicity\")\n",
    "    plt.xlabel(\"$q_a$\")\n",
    "    plt.ylabel(\"Total Multiplicity\")"
   ]
  },
  {
   "cell_type": "code",
   "execution_count": 42,
   "metadata": {},
   "outputs": [
    {
     "data": {
      "image/png": "[encoded data removed]",
      "text/plain": [
       "<Figure size 432x288 with 1 Axes>"
      ]
     },
     "metadata": {
      "needs_background": "light"
     },
     "output_type": "display_data"
    }
   ],
   "source": [
    "Plot_Omega(3000, 2000, 100)"
   ]
  }
 ],
 "metadata": {
  "kernelspec": {
   "display_name": "Python 3",
   "language": "python",
   "name": "python3"
  },
  "language_info": {
   "codemirror_mode": {
    "name": "ipython",
    "version": 3
   },
   "file_extension": ".py",
   "mimetype": "text/x-python",
   "name": "python",
   "nbconvert_exporter": "python",
   "pygments_lexer": "ipython3",
   "version": "3.7.1"
  }
 },
 "nbformat": 4,
 "nbformat_minor": 2
}
