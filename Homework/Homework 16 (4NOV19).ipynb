{
 "cells": [
  {
   "cell_type": "code",
   "execution_count": 44,
   "metadata": {},
   "outputs": [],
   "source": [
    "#Thomas Conibear - Second Homework on LJ Potential\n",
    "\n",
    "#Code straight from notes used to find LJ potential for multiple atom systems.\n",
    "\n",
    "import numpy as np\n",
    "from scipy.spatial.distance import cdist\n",
    "from scipy.optimize import minimize\n",
    "import requests\n",
    "\n",
    "def get_pos_from_url(address='http://doye.chem.ox.ac.uk/jon/structures/LJ/points/', N=7):\n",
    "    url_address = address + str(N)\n",
    "    data_str = requests.get(url_address).text\n",
    "    return parse_url_text(data_str)    \n",
    "    \n",
    "def parse_url_text(data_str):\n",
    "    x_array = []\n",
    "    text = data_str.split('\\n')\n",
    "    for line in text:\n",
    "        [x_array.append(float(i)) for i in line.split()]\n",
    "    return np.array(x_array)\n",
    "\n",
    "def dist(N_atoms):\n",
    "    pos = get_pos_from_url(N = N_atoms)\n",
    "    pos = np.reshape(pos,[N_atoms,3])\n",
    "    #pos = 10*np.random.random(N_atoms*3)\n",
    "    #pos = np.reshape(pos,[N_atoms,3])\n",
    "    distance = cdist(pos,pos,'euclidean')\n",
    "    iu1 = np.triu_indices(N_atoms)\n",
    "    distance = distance[iu1]\n",
    "    index = np.argwhere(distance==0)\n",
    "    distance = np.delete(distance,index)\n",
    "    return distance\n",
    "    \n",
    "def LJ(r):\n",
    "    r6 = np.power(r,6)\n",
    "    r12 = np.multiply(r6,r6)\n",
    "    return 4*(1/r12 - 1/r6)\n",
    "    \n",
    "def Total_Energy(positions):\n",
    "\n",
    "    E = LJ(positions)\n",
    "    Energy = np.sum(E)\n",
    "    return Energy\n",
    "\n",
    "N_attempts = 50\n",
    "f_values = []\n",
    "x_values = []\n",
    "\n",
    "#First Scipy optimize method\n",
    "def ground_state_potential(N_atom):\n",
    "    pos = dist(N_atom)\n",
    "    for i in range(N_attempts):\n",
    "        \n",
    "        res = minimize(Total_Energy, pos, method='CG', tol=1e-4)\n",
    "        f_values.append(res.fun)\n",
    "        x_values.append(res.x)\n",
    "        if i%10==0:\n",
    "           print('Step: ', i, '  Value:', res.fun, \" Number of Iterations: \", res.nit)\n",
    "\n",
    "    print('The ground state potential is:  ', min(f_values))\n",
    "\n",
    "#Choosing new method of Nelder-Mead to compare results\n",
    "\n",
    "def ground_state_potential2(N_atom):\n",
    "    pos = dist(N_atom)\n",
    "    for i in range(N_attempts):\n",
    "        \n",
    "        res = minimize(Total_Energy, pos, method='Nelder-Mead', tol=1e-4)\n",
    "        f_values.append(res.fun)\n",
    "        x_values.append(res.x)\n",
    "        if i%10==0:\n",
    "           print('Step: ', i, '  Value:', res.fun, \"Number of Iterations: \", res.nit)\n",
    "\n",
    "    print('The ground state potential is:  ', min(f_values))\n",
    "    \n",
    "#Choosing another method of Powell to compare results\n",
    "\n",
    "def ground_state_potential3(N_atom):\n",
    "    pos = dist(N_atom)\n",
    "    for i in range(N_attempts):\n",
    "        \n",
    "        res = minimize(Total_Energy, pos, method='Powell', tol=1e-4)\n",
    "        f_values.append(res.fun)\n",
    "        x_values.append(res.x)\n",
    "        if i%10==0:\n",
    "           print('Step: ', i, '  Value:', res.fun, \"Number of Iterations: \", res.nit)\n",
    "\n",
    "    print('The ground state potential is:  ', min(f_values))\n",
    "    \n",
    "#Choosing the fourth method of BFGS to compare results\n",
    "def ground_state_potential4(N_atom):\n",
    "    pos = dist(N_atom)\n",
    "    for i in range(N_attempts):\n",
    "        \n",
    "        res = minimize(Total_Energy, pos, method='BFGS', tol=1e-4)\n",
    "        f_values.append(res.fun)\n",
    "        x_values.append(res.x)\n",
    "        if i%10==0:\n",
    "           print('Step: ', i, '  Value:', res.fun, \"Number of Iterations: \", res.nit)\n",
    "\n",
    "    print('The ground state potential is:  ', min(f_values))"
   ]
  },
  {
   "cell_type": "code",
   "execution_count": 40,
   "metadata": {},
   "outputs": [
    {
     "name": "stdout",
     "output_type": "stream",
     "text": [
      "Results for Scipy Minimization Method Using CG: \n",
      "\n",
      "Step:  0   Value: -189.99999999999903  Number of Iterations:  59\n",
      "Step:  10   Value: -189.99999999999903  Number of Iterations:  59\n",
      "Step:  20   Value: -189.99999999999903  Number of Iterations:  59\n",
      "Step:  30   Value: -189.99999999999903  Number of Iterations:  59\n",
      "Step:  40   Value: -189.99999999999903  Number of Iterations:  59\n",
      "The ground state potential is:   -189.99999999999903\n",
      "Wall time: 3min 57s\n"
     ]
    }
   ],
   "source": [
    "%%time\n",
    "\n",
    "print(\"Results for Scipy Minimization Method Using CG:\", \"\\n\")\n",
    "ground_state_potential(20)"
   ]
  },
  {
   "cell_type": "code",
   "execution_count": 46,
   "metadata": {},
   "outputs": [
    {
     "name": "stdout",
     "output_type": "stream",
     "text": [
      "Results for Scipy Minimization Method Using Nelder-Mead: \n",
      "\n",
      "Step:  0   Value: -69.04514235542156 Number of Iterations:  19535\n",
      "Step:  10   Value: -69.04514235542156 Number of Iterations:  19535\n",
      "Step:  20   Value: -69.04514235542156 Number of Iterations:  19535\n",
      "Step:  30   Value: -69.04514235542156 Number of Iterations:  19535\n",
      "Step:  40   Value: -69.04514235542156 Number of Iterations:  19535\n",
      "The ground state potential is:   -69.04514235542156\n",
      "Wall time: 8min 27s\n"
     ]
    }
   ],
   "source": [
    "%%time\n",
    "print(\"Results for Scipy Minimization Method Using Nelder-Mead:\", \"\\n\")\n",
    "ground_state_potential2(15)\n",
    "\n",
    "#Nelder-Mead method has a large amount of iterations so I only used a 15 atom system here"
   ]
  },
  {
   "cell_type": "code",
   "execution_count": 48,
   "metadata": {},
   "outputs": [
    {
     "name": "stdout",
     "output_type": "stream",
     "text": [
      "Results for Scipy Minimization Method Using Powell: \n",
      "\n",
      "Step:  0   Value: -189.99999999999721 Number of Iterations:  3\n",
      "Step:  10   Value: -189.99999999999721 Number of Iterations:  3\n",
      "Step:  20   Value: -189.99999999999721 Number of Iterations:  3\n",
      "Step:  30   Value: -189.99999999999721 Number of Iterations:  3\n",
      "Step:  40   Value: -189.99999999999721 Number of Iterations:  3\n",
      "The ground state potential is:   -189.99999999999721\n",
      "Wall time: 1min 44s\n"
     ]
    }
   ],
   "source": [
    "%%time\n",
    "print(\"Results for Scipy Minimization Method Using Powell:\", \"\\n\")\n",
    "ground_state_potential3(20)\n",
    "\n",
    "#We can see that the Powell method is the fastest for this type of calculation"
   ]
  },
  {
   "cell_type": "code",
   "execution_count": 45,
   "metadata": {},
   "outputs": [
    {
     "name": "stdout",
     "output_type": "stream",
     "text": [
      "Results for Scipy Minimization Method Using BFGS: \n",
      "\n",
      "Step:  0   Value: -2.9999999999980176 Number of Iterations:  0\n",
      "Step:  10   Value: -2.9999999999980176 Number of Iterations:  0\n",
      "Step:  20   Value: -2.9999999999980176 Number of Iterations:  0\n",
      "Step:  30   Value: -2.9999999999980176 Number of Iterations:  0\n",
      "Step:  40   Value: -2.9999999999980176 Number of Iterations:  0\n",
      "The ground state potential is:   -2.9999999999980176\n",
      "Wall time: 326 ms\n"
     ]
    }
   ],
   "source": [
    "%%time\n",
    "print(\"Results for Scipy Minimization Method Using BFGS:\", \"\\n\")\n",
    "ground_state_potential4(3)\n",
    "\n",
    "#Used a 3 atom system to compare to the previous homework. It is clear that the random method I used had high error"
   ]
  },
  {
   "cell_type": "code",
   "execution_count": null,
   "metadata": {},
   "outputs": [],
   "source": []
  }
 ],
 "metadata": {
  "kernelspec": {
   "display_name": "Python 3",
   "language": "python",
   "name": "python3"
  },
  "language_info": {
   "codemirror_mode": {
    "name": "ipython",
    "version": 3
   },
   "file_extension": ".py",
   "mimetype": "text/x-python",
   "name": "python",
   "nbconvert_exporter": "python",
   "pygments_lexer": "ipython3",
   "version": "3.7.1"
  }
 },
 "nbformat": 4,
 "nbformat_minor": 2
}
