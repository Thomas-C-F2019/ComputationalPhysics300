{
 "cells": [
  {
   "cell_type": "markdown",
   "metadata": {},
   "source": [
    "Thomas Conibear - Jacobian Homework Attempt\n",
    "\n",
    "In class and on homework we used the LJ potential and used scipy to find the minimum. However, the scipy minimize function does not use the Jacobian in its calculations so it can often take some time to calculate large programs. So in order to optimize this we need to include the correct Jacobian and optimize that to more quickly find the correct minimum potential energy."
   ]
  },
  {
   "cell_type": "markdown",
   "metadata": {},
   "source": [
    "LJ Potential Equation: V = 4 * $(\\frac{1}{r^12}$ - $\\frac{1}{r^6})$"
   ]
  },
  {
   "cell_type": "markdown",
   "metadata": {},
   "source": [
    "First we have to break up our LJ potential equation into vector magnitude form where r=$\\sqrt{x^2+y^2+z^2}$ \n",
    "\n",
    "as r = x$\\hat{x}$+y$\\hat{y}$+z$\\hat{z}$\n",
    "\n",
    "Which leads to the form:\n",
    "\n",
    "### LJ =  4 * $(\\frac{1}{\\sqrt{x^2+y^2+z^2}^12}$ - $\\frac{1}{\\sqrt{x^2+y^2+z^2}^6})$"
   ]
  },
  {
   "cell_type": "markdown",
   "metadata": {},
   "source": [
    "So now that we have it in this format with respect to three variables. We must take the Cartesian del operator of partial derivatives with respect to this new LJ equation. \n",
    "\n",
    "Since each variable is identical in terms of it's powers and coefficients, the partial derivatives will be identical as well.\n",
    "\n",
    "So we have:\n",
    "\n",
    "### LJ =  del * [4 * $(\\frac{1}{\\sqrt{x^2+y^2+z^2}^12}$ - $\\frac{1}{\\sqrt{x^2+y^2+z^2}^6})$]\n",
    "\n",
    "Which becomes:\n",
    "\n",
    "### $LJ_x$ =  4 * $(\\frac{-6(2x)}{\\sqrt{x^2+y^2+z^2}^12}$ - $\\frac{3(2x)}{\\sqrt{x^2+y^2+z^2}^6})$  =  4 * $(\\frac{-12x}{\\sqrt{x^2+y^2+z^2}^12}$ - $\\frac{6x}{\\sqrt{x^2+y^2+z^2}^6})$\n",
    "with respect to x.\n",
    "\n",
    "It is the same with respect to y and z. We have as follows:\n",
    "\n",
    "Y: \n",
    "### $LJ_y$ =  4 * $(\\frac{-12y}{\\sqrt{x^2+y^2+z^2}^12}$ - $\\frac{6y}{\\sqrt{x^2+y^2+z^2}^6})$\n",
    "Z:\n",
    "### $LJ_z$ =  4 * $(\\frac{-12z}{\\sqrt{x^2+y^2+z^2}^12}$ - $\\frac{6z}{\\sqrt{x^2+y^2+z^2}^6})$"
   ]
  },
  {
   "cell_type": "markdown",
   "metadata": {},
   "source": [
    "So our final Jacobian will be the summation of these as it is a vector sum now. \n",
    "\n",
    "\n",
    "$\\sum$ $LJ_x$ + $LJ_y$ + $LJ_z$\n",
    "\n",
    "However, this only deals with one point, since we are interested in potential between two points we must do a double summation of potentials. So we have:\n",
    "\n",
    "$\\sum$ $\\sum$ $LJ_x$ + $LJ_y$ + $LJ_z$\n",
    "\n",
    "Now we take the scipy minimize of this double summation. The attempt at coding this is below."
   ]
  },
  {
   "cell_type": "code",
   "execution_count": 1,
   "metadata": {},
   "outputs": [],
   "source": [
    "import numpy as np\n",
    "from numba import jit\n",
    "#Use jit to improve time of calculation\n",
    "\n",
    "#From lecture\n",
    "\n",
    "@jit\n",
    "#LJ Potential Equation\n",
    "def LJ(r):\n",
    "    return 4*(1/r**12 - 1/r**6)\n",
    "\n",
    "@jit\n",
    "def total_energy(positions):\n",
    "    \"\"\"\n",
    "    Calculate the total energy\n",
    "    input:\n",
    "    positions: 3*N array which represents the atomic positions\n",
    "    output\n",
    "    E: the total energy\n",
    "    \"\"\"\n",
    "    E = 0\n",
    "    N_atom = int(len(positions)/3)\n",
    "    \n",
    "    #positions = [x0, y0, z0, x1, y1, z1, .....  , x(n-1), y(n-1), z(n-1)] Array of many particles\n",
    "    for i in range(N_atom-1):\n",
    "        for j in range(i+1, N_atom):\n",
    "            pos1 = positions[i*3:(i+1)*3] #Doing the array sequentially but in proper order of an atom's position\n",
    "            pos2 = positions[j*3:(j+1)*3]\n",
    "            dist = np.linalg.norm(pos1-pos2)\n",
    "            E += LJ(dist)\n",
    "            return E\n",
    "\n",
    "@jit\n",
    "def init_pos(N, L=5):\n",
    "    return L*np.random.random_sample((N*3,))\n",
    "\n",
    "@jit\n",
    "def pos_r_space(pos):\n",
    "    pos_r = []\n",
    "    for i in range(len(pos)//3):\n",
    "        pos_r.append(np.linalg.norm(pos[i*3:(i+1)*3]))\n",
    "    return pos_r\n",
    "\n",
    "#Jacobian function in vector coordinates\n",
    "@jit\n",
    "def LJ_Jacobian(pos):\n",
    "    N_atom = int(len(pos)/3) \n",
    "    force = np.zeros([N_atom, 3])\n",
    "                 \n",
    "    for i in range(N_atom):\n",
    "        pos1 = pos[i*3:(i+1)*3]\n",
    "        for j in range(N_atom): \n",
    "            pos2 = pos[j*3:(j+1)*3]\n",
    "            if not any(pos1 == pos2): \n",
    "                dist_xyz = pos1 - pos2\n",
    "                dist_r = np.linalg.norm(dist_xyz)\n",
    "                r14 = np.power(dist_r, 14)\n",
    "                r8 = np.power(dist_r, 8)\n",
    "                next_r = np.dot((-48/r14 + 24/r8), dist_xyz)\n",
    "                force[i] += next_r\n",
    "    \n",
    "    return force.flatten()"
   ]
  },
  {
   "cell_type": "code",
   "execution_count": 2,
   "metadata": {},
   "outputs": [
    {
     "name": "stdout",
     "output_type": "stream",
     "text": [
      "\n",
      " Number of atoms =  4 and the Minimum Force is -0.9999999999999951\n",
      "\n",
      " Number of atoms =  5 and the Minimum Force is -0.9999999996356648\n",
      "\n",
      " Number of atoms =  6 and the Minimum Force is -0.9999999620116734\n",
      "\n",
      " Number of atoms =  7 and the Minimum Force is -0.9999999993689369\n",
      "\n",
      " Number of atoms =  8 and the Minimum Force is -0.9994051157083521\n",
      "\n",
      " Number of atoms =  9 and the Minimum Force is -0.9994664730923746\n",
      "\n",
      " Number of atoms =  10 and the Minimum Force is -0.9994716050974934\n"
     ]
    }
   ],
   "source": [
    "from scipy.optimize import minimize\n",
    "\n",
    "#Energies from online website from lecture\n",
    "#Finding force for n atoms up to 10 but you could add as many as you want as long as you add their respective energies\n",
    "x_values = []\n",
    "N_atoms = [4,5,6,7,8,9,10]\n",
    "Energies = [-6.000000, -9.103852, -12.712062, -16.505384, -19.821489, -24.113360, -28.422532]\n",
    "    \n",
    "for n in N_atoms:\n",
    "    \n",
    "    fun_values = []\n",
    "    f_values = 0\n",
    "    count = 0\n",
    "    while (f_values-Energies[n-4]>0.8 and count < 100):\n",
    "        pos = init_pos(n)\n",
    "        res = minimize(total_energy, pos, jac=LJ_Jacobian, method='CG', tol=1e-4)\n",
    "        f_values = res.fun\n",
    "        fun_values.append(res.fun)\n",
    "        count +=1\n",
    "        \n",
    "    if (f_values-Energies[n-4]<= 0.8):\n",
    "        print('\\n Number of atoms = ', n, ' and the Minimum Force is',  f_values)\n",
    "    else:\n",
    "        print('\\n Number of atoms = ', n, 'and the Minimum Force is', min(fun_values))"
   ]
  },
  {
   "cell_type": "code",
   "execution_count": null,
   "metadata": {},
   "outputs": [],
   "source": []
  }
 ],
 "metadata": {
  "kernelspec": {
   "display_name": "Python 3",
   "language": "python",
   "name": "python3"
  },
  "language_info": {
   "codemirror_mode": {
    "name": "ipython",
    "version": 3
   },
   "file_extension": ".py",
   "mimetype": "text/x-python",
   "name": "python",
   "nbconvert_exporter": "python",
   "pygments_lexer": "ipython3",
   "version": "3.7.1"
  }
 },
 "nbformat": 4,
 "nbformat_minor": 2
}
