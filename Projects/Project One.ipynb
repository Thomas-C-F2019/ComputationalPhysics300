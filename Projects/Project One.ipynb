{
 "cells": [
  {
   "cell_type": "markdown",
   "metadata": {},
   "source": [
    "## Project Number One:1 - Wave(s) Simulation Project\n",
    "\n",
    "##### By Thomas Conibear and Jeremy Foley \n",
    "\n",
    "We did the simulation of waves using a 3-D library called k3d and using widgets built into python to make the sliders and buttons needed to run and manipulate the animation. To run this code you must download the k3d library.  \n",
    "\n",
    "We were able to make sliders for a wave's position, wavelength, velocity, and amplitude that updates the program in real time. The only issue that arises is how smooth the code runs but that can be corrected by decreasing the amount of points, or pixels being put into the graph per side. We found the optimal number to be around 150. Later on we will improve upon this resolution/smoothness issue.\n"
   ]
  },
  {
   "cell_type": "code",
   "execution_count": 1,
   "metadata": {},
   "outputs": [
    {
     "data": {
      "application/vnd.jupyter.widget-view+json": {
       "model_id": "3cb3c68380934c9eb10ae6fa1014c55b",
       "version_major": 2,
       "version_minor": 0
      },
      "text/plain": [
       "HBox(children=(Play(value=50, description='Press play'), IntSlider(value=0)))"
      ]
     },
     "metadata": {},
     "output_type": "display_data"
    },
    {
     "data": {
      "application/vnd.jupyter.widget-view+json": {
       "model_id": "711494db4c5b4d5db2a605ec095eb200",
       "version_major": 2,
       "version_minor": 0
      },
      "text/plain": [
       "interactive(children=(IntSlider(value=0, description='frame_index'), FloatSlider(value=5.0, description='wavel…"
      ]
     },
     "metadata": {},
     "output_type": "display_data"
    },
    {
     "name": "stderr",
     "output_type": "stream",
     "text": [
      "C:\\Users\\Thomas\\Anaconda3\\lib\\site-packages\\traittypes\\traittypes.py:101: UserWarning: Given trait value dtype \"float64\" does not match required type \"float32\". A coerced copy has been created.\n",
      "  np.dtype(self.dtype).name))\n"
     ]
    },
    {
     "data": {
      "application/vnd.jupyter.widget-view+json": {
       "model_id": "0ceb586d1cea4af4838aa7216be86dc5",
       "version_major": 2,
       "version_minor": 0
      },
      "text/plain": [
       "Output()"
      ]
     },
     "metadata": {},
     "output_type": "display_data"
    }
   ],
   "source": [
    "from math import sqrt,sin,pi\n",
    "from numpy import empty\n",
    "import numpy as np\n",
    "import k3d\n",
    "from ipywidgets import interact, interactive, interact_manual, interactive_output\n",
    "import ipywidgets as widgets\n",
    "from IPython.display import display, clear_output\n",
    "\n",
    "# Animation properties\n",
    "fps = 60\n",
    "\n",
    "# Graph limits. From lecture notes\n",
    "side = 100.0           # Side of the square in cm\n",
    "points = 150           # Number of squares or vertex points that make up graph. Affects resolution of graph\n",
    "spacing = side/points  # Spacing of points in cm\n",
    "xmin, xmax = 0, 500\n",
    "ymin, ymax = 0, 500\n",
    "\n",
    "# Global variables. Variables that will be used in multiple functions but we want these values to be consistent throughout\n",
    "#Saying this will be a global variable used multiple times. Reserving these two words as global, not local variables.\n",
    "GRAPH = None\n",
    "plt_surface = None\n",
    "\n",
    "# Generation function, defines variables needed to manipulate our waves and their location.\n",
    "#These are defining default values for this function to use unless otherwise noted.\n",
    "#Did it this way so you could see easily each variable of the function and it's default value.\n",
    "def gen(\n",
    "        frame_index= 0,\n",
    "        wavelength=  5.0,\n",
    "        v=           5.0,\n",
    "        amplitude1=  1.0,\n",
    "        amplitude2=  1.0,\n",
    "        x1=          50.0,\n",
    "        y1=          50.0,\n",
    "        x2=          50.0,\n",
    "        y2=          50.0):\n",
    "    global GRAPH\n",
    "\n",
    "    # Calculations relevant to waves\n",
    "    t = frame_index / fps\n",
    "    k = 2*pi/wavelength\n",
    "   \n",
    "    # Create 2-D array of points that define the graph.\n",
    "    GRAPH = empty([points, points], float) #Empty array from numpy. Default is float but we show it anyway.\n",
    "    for j in range(points): #Optimizing speed of code setting up arrays in this way\n",
    "        y = spacing*j\n",
    "        for i in range(points): \n",
    "            x = spacing*i\n",
    "           \n",
    "            r1 = sqrt((x-x1)**2+(y-y1)**2) #Distances between center of wave and point that we are currently graphing\n",
    "            r2 = sqrt((x-x2)**2+(y-y2)**2)\n",
    "            GRAPH[j,i] = sin(k*r1-v*t) * amplitude1 + sin(k*r2-v*t) * amplitude2\n",
    "           \n",
    "    # Update the 3d surface model \n",
    "    if plt_surface:\n",
    "        plt_surface.heights = GRAPH #Assigns height of each point in graph to generated array\n",
    "\n",
    "# Widget used to make buttons and integer frame slider for animations. From ipywidgets\n",
    "play = widgets.Play(\n",
    "#     interval=1000/fps,\n",
    "    value=50,\n",
    "    min=0,\n",
    "    max=100,\n",
    "    step=1,\n",
    "    description=\"Press play\",\n",
    "    disabled=False\n",
    ")\n",
    "play_slider = widgets.IntSlider()\n",
    "widgets.jslink((play, 'value'), (play_slider, 'value'))\n",
    "play_ui = widgets.HBox([play, play_slider]) #Hbox puts the slider horizontal to the buttons, Vbox would make it vertical\n",
    "display(play_ui)\n",
    "\n",
    "# Defining wave controls to manipulate our waves using sliders\n",
    "controls = interactive(gen,\n",
    "            frame_index= play_slider,\n",
    "            wavelength=  (0., 10.),\n",
    "            v=           (0., 10.),\n",
    "            amplitude1=   (0., 10.),\n",
    "            amplitude2=   (0., 10.),\n",
    "            x1=          (0., side),\n",
    "            y1=          (0., side),\n",
    "            x2=          (0., side),\n",
    "            y2=          (0., side))\n",
    "display(controls)\n",
    "\n",
    "# 3-D plot using k3d library\n",
    "plot = k3d.plot()\n",
    "plt_surface = k3d.surface(GRAPH, bounds=[xmin,xmax,ymin,ymax], color=0xffe1)\n",
    "plt_surface.heights = GRAPH\n",
    "plot += plt_surface\n",
    "plot.display()"
   ]
  },
  {
   "cell_type": "markdown",
   "metadata": {},
   "source": [
    "We found that constantly going into the code to change the resolution to find the optimal mix of resolution and the program running smooth to be tedious. So we decided to add a slider that allows you to change the resolution in real time. This makes it much easier to perform different actions on the simulation. If you want to see how the simulation changes when you manipulate different sliders, then you lower the resolution slider to 150 or below and the simulation runs quite well. If you want to examine a specific part of the simulation in good detail, you can hit the pause button, raise the resolution to whatever value you want, and zoom in on a specific area of the simulation. The only problem with doing this is that your spacing of the graphed values is determined by your resolution value, so this needed to be updated in real time with the rest of the points, so we needed to move the spacing code into the function so it could constantly be updated in accordance with the resolution slider being manipulated.\n",
    "\n",
    "We also decided that adding a third drop into the water would provide interesting results, so we added sliders and code for a third wave. Adding waves and sliders is simple with how k3d and the ipython widgets works. We could add many more drops/waves but it would make the code long and become redundant with the scope of this project. However, it demonstrates the usefulness of k3d and the versatility of this code format"
   ]
  },
  {
   "cell_type": "code",
   "execution_count": 2,
   "metadata": {},
   "outputs": [
    {
     "data": {
      "application/vnd.jupyter.widget-view+json": {
       "model_id": "602273c5285340eea9347154c9cfeebd",
       "version_major": 2,
       "version_minor": 0
      },
      "text/plain": [
       "HBox(children=(Play(value=50, description='Press play'), IntSlider(value=0)))"
      ]
     },
     "metadata": {},
     "output_type": "display_data"
    },
    {
     "data": {
      "application/vnd.jupyter.widget-view+json": {
       "model_id": "9f566d283e5e47ecb66e8a25bf8118a9",
       "version_major": 2,
       "version_minor": 0
      },
      "text/plain": [
       "interactive(children=(IntSlider(value=0, description='frame_index'), FloatSlider(value=5.0, description='wavel…"
      ]
     },
     "metadata": {},
     "output_type": "display_data"
    },
    {
     "data": {
      "application/vnd.jupyter.widget-view+json": {
       "model_id": "edb6acd7cf1348da8eb2cad3a669a064",
       "version_major": 2,
       "version_minor": 0
      },
      "text/plain": [
       "Output()"
      ]
     },
     "metadata": {},
     "output_type": "display_data"
    }
   ],
   "source": [
    "from math import sqrt,sin,pi\n",
    "from numpy import empty\n",
    "import numpy as np\n",
    "import k3d\n",
    "from ipywidgets import interact, interactive, interact_manual, interactive_output\n",
    "import ipywidgets as widgets\n",
    "from IPython.display import display, clear_output\n",
    "\n",
    "# Animation properties\n",
    "fps = 60\n",
    "\n",
    "# Graph limits. From lecture notes\n",
    "side = 100.0           # Side of the square in cm\n",
    "#Resolution = 500           # Number of squares or vertex points that make up graph. Affects resolution of graph\n",
    "#spacing = side/points  # Spacing of points in cm\n",
    "xmin, xmax = 0, 500\n",
    "ymin, ymax = 0, 500\n",
    "\n",
    "# Global variables. Variables that will be used in multiple functions but we want these values to be consistent throughout\n",
    "#Saying this will be a global variable used multiple times. Reserving these two words as global, not local variables.\n",
    "GRAPH = None\n",
    "plt_surface = None\n",
    "\n",
    "# Generation function, defines variables needed to manipulate our waves and their location.\n",
    "#These are defining default values for this function to use unless otherwise noted.\n",
    "#Did it this way so you could see easily each variable of the function and it's default value.\n",
    "def gen(\n",
    "        frame_index= 0,\n",
    "        \n",
    "        wavelength=  5.0,\n",
    "        v=           5.0,\n",
    "        amplitude1=  1.0,\n",
    "        amplitude2=  1.0,\n",
    "        amplitude3=  1.0,\n",
    "        x1=          50.0,\n",
    "        y1=          50.0,\n",
    "        x2=          50.0,\n",
    "        y2=          50.0,\n",
    "        x3=          50.0,\n",
    "        y3=          50.0,\n",
    "        Resolution= 250):\n",
    "    global GRAPH\n",
    "\n",
    "    # Calculations relevant to waves\n",
    "    t = frame_index / fps\n",
    "    k = 2*pi/wavelength\n",
    "   \n",
    "    spacing=side/Resolution #Scaling factor to accomodate resolution slider\n",
    "    # Create 2-D array of points that define the graph.\n",
    "    GRAPH = empty([Resolution, Resolution], float) #Empty array from numpy. Default is float but we show it anyway.\n",
    "    for j in range(Resolution): #Optimizing speed of code setting up arrays in this way\n",
    "        y = spacing*j\n",
    "        for i in range(Resolution): \n",
    "            x = spacing*i\n",
    "           \n",
    "            r1 = sqrt((x-x1)**2+(y-y1)**2) #Distances between center of wave and point that we are currently graphing\n",
    "            r2 = sqrt((x-x2)**2+(y-y2)**2)\n",
    "            r3 = sqrt((x-x3)**2+(y-y3)**2)\n",
    "            GRAPH[j,i] = sin(k*r1-v*t) * amplitude1 + sin(k*r2-v*t) * amplitude2 + sin(k*r3-v*t)*amplitude3\n",
    "           \n",
    "    # Update the 3d surface model \n",
    "    if plt_surface:\n",
    "        plt_surface.heights = GRAPH #Assigns height of each point in graph to generated array\n",
    "\n",
    "# Widget used to make buttons and integer frame slider for animations. From ipywidgets\n",
    "play = widgets.Play(\n",
    "#     interval=1000/fps,\n",
    "    value=50,\n",
    "    min=0,\n",
    "    max=100,\n",
    "    step=1,\n",
    "    description=\"Press play\",\n",
    "    disabled=False\n",
    ")\n",
    "play_slider = widgets.IntSlider()\n",
    "widgets.jslink((play, 'value'), (play_slider, 'value'))\n",
    "play_ui = widgets.HBox([play, play_slider]) #Hbox puts the slider horizontal to the buttons, Vbox would make it vertical\n",
    "display(play_ui)\n",
    "\n",
    "# Defining wave controls to manipulate our waves using sliders\n",
    "controls = interactive(gen,\n",
    "            frame_index= play_slider,\n",
    "            Resolution= (10, 500),\n",
    "            wavelength=  (0., 10.),\n",
    "            v=           (0., 10.),\n",
    "            amplitude1=   (0., 10.),\n",
    "            amplitude2=   (0., 10.),\n",
    "            amplitude3= (0., 10.),\n",
    "            x1=          (0., side),\n",
    "            y1=          (0., side),\n",
    "            x2=          (0., side),\n",
    "            y2=          (0., side),\n",
    "            x3=          (0., side),\n",
    "            y3=          (0., side))\n",
    "display(controls)\n",
    "\n",
    "# 3-D plot using k3d library\n",
    "plot = k3d.plot()\n",
    "plt_surface = k3d.surface(GRAPH, bounds=[xmin,xmax,ymin,ymax], color=0xffe1)\n",
    "plt_surface.heights = GRAPH\n",
    "plot += plt_surface\n",
    "plot.display()"
   ]
  },
  {
   "cell_type": "code",
   "execution_count": null,
   "metadata": {},
   "outputs": [],
   "source": []
  }
 ],
 "metadata": {
  "kernelspec": {
   "display_name": "Python 3",
   "language": "python",
   "name": "python3"
  },
  "language_info": {
   "codemirror_mode": {
    "name": "ipython",
    "version": 3
   },
   "file_extension": ".py",
   "mimetype": "text/x-python",
   "name": "python",
   "nbconvert_exporter": "python",
   "pygments_lexer": "ipython3",
   "version": "3.7.1"
  }
 },
 "nbformat": 4,
 "nbformat_minor": 2
}
